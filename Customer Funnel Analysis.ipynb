{
 "cells": [
  {
   "cell_type": "markdown",
   "metadata": {},
   "source": [
    "### Customer Funnel Analysis "
   ]
  },
  {
   "cell_type": "markdown",
   "metadata": {},
   "source": [
    "\n",
    "Customer Funnel Analysis is a crucial methodology used in marketing and sales to understand the journey a customer takes from the initial interaction with a brand to the final conversion, such as a purchase. This process involves tracking and analyzing the various stages that potential customers pass through, commonly referred to as the \"funnel stages.\" These stages typically include awareness, interest, consideration, intent, evaluation, and purchase.\n",
    "\n",
    "The primary purpose of funnel analysis is to identify where customers drop off in their journey and to understand the factors that influence their decisions at each stage. By examining the conversion rates between stages, businesses can pinpoint bottlenecks, optimize their marketing strategies, and improve the overall customer experience. This leads to more effective targeting, higher conversion rates, and increased revenue.\n",
    "\n",
    "In this project, we will conduct a detailed customer funnel analysis, evaluating the performance at each stage of the funnel. We will assess the number of users entering each stage, the conversion rates, and identify areas for improvement. This analysis will provide actionable insights to enhance customer acquisition, engagement, and retention strategies, ultimately driving business growth."
   ]
  },
  {
   "cell_type": "markdown",
   "metadata": {},
   "source": [
    "#### Customer Funnel Analysis using Python"
   ]
  },
  {
   "cell_type": "markdown",
   "metadata": {},
   "source": [
    "Python packages are imported."
   ]
  },
  {
   "cell_type": "code",
   "execution_count": 3,
   "metadata": {},
   "outputs": [],
   "source": [
    "# import packages\n",
    "\n",
    "import pandas as pd\n",
    "import matplotlib.pyplot as plt\n",
    "import seaborn as sns\n",
    "import numpy as np\n",
    "\n",
    "%matplotlib inline"
   ]
  },
  {
   "cell_type": "markdown",
   "metadata": {},
   "source": [
    "User data is loaded as a pandas dataframe and previewed.\n",
    "\n",
    "* user_id: indicates unique user identifiers \n",
    "* stage: indicates the stage of the user's journey through the funnel \n",
    "* conversion: indicates whether the user converted or not"
   ]
  },
  {
   "cell_type": "code",
   "execution_count": 4,
   "metadata": {},
   "outputs": [
    {
     "data": {
      "text/html": [
       "<div>\n",
       "<style scoped>\n",
       "    .dataframe tbody tr th:only-of-type {\n",
       "        vertical-align: middle;\n",
       "    }\n",
       "\n",
       "    .dataframe tbody tr th {\n",
       "        vertical-align: top;\n",
       "    }\n",
       "\n",
       "    .dataframe thead th {\n",
       "        text-align: right;\n",
       "    }\n",
       "</style>\n",
       "<table border=\"1\" class=\"dataframe\">\n",
       "  <thead>\n",
       "    <tr style=\"text-align: right;\">\n",
       "      <th></th>\n",
       "      <th>user_id</th>\n",
       "      <th>stage</th>\n",
       "      <th>conversion</th>\n",
       "    </tr>\n",
       "  </thead>\n",
       "  <tbody>\n",
       "    <tr>\n",
       "      <th>0</th>\n",
       "      <td>user_0</td>\n",
       "      <td>homepage</td>\n",
       "      <td>True</td>\n",
       "    </tr>\n",
       "    <tr>\n",
       "      <th>1</th>\n",
       "      <td>user_1</td>\n",
       "      <td>homepage</td>\n",
       "      <td>True</td>\n",
       "    </tr>\n",
       "    <tr>\n",
       "      <th>2</th>\n",
       "      <td>user_2</td>\n",
       "      <td>homepage</td>\n",
       "      <td>True</td>\n",
       "    </tr>\n",
       "    <tr>\n",
       "      <th>3</th>\n",
       "      <td>user_3</td>\n",
       "      <td>homepage</td>\n",
       "      <td>True</td>\n",
       "    </tr>\n",
       "    <tr>\n",
       "      <th>4</th>\n",
       "      <td>user_4</td>\n",
       "      <td>homepage</td>\n",
       "      <td>True</td>\n",
       "    </tr>\n",
       "  </tbody>\n",
       "</table>\n",
       "</div>"
      ],
      "text/plain": [
       "  user_id     stage  conversion\n",
       "0  user_0  homepage        True\n",
       "1  user_1  homepage        True\n",
       "2  user_2  homepage        True\n",
       "3  user_3  homepage        True\n",
       "4  user_4  homepage        True"
      ]
     },
     "execution_count": 4,
     "metadata": {},
     "output_type": "execute_result"
    }
   ],
   "source": [
    "user_data = pd.read_csv(\"user_data.csv\")\n",
    "user_data.head(5)"
   ]
  },
  {
   "cell_type": "markdown",
   "metadata": {},
   "source": [
    "The stages in the funnel analysis\n",
    "\n",
    "* homepage: the first page when visiting the website \n",
    "* product_page: from the home page, the user can view and search products on the product page\n",
    "* cart: products selected by the user on the product page are available here.\n",
    "* checkout: page from the cart page, where user can make payment, add delivery details etc\n",
    "* purchase: after payment, the user ends up on a purchase page or payment confirmation page"
   ]
  },
  {
   "cell_type": "markdown",
   "metadata": {},
   "source": [
    "##### Steps for User Funnel Analysis\n",
    "\n",
    "* Calculate thenumber of users at each stage\n",
    "* Calculate the number of conversions at each stage\n",
    "* Calculate the conversion rate for each stage"
   ]
  },
  {
   "cell_type": "code",
   "execution_count": 6,
   "metadata": {},
   "outputs": [
    {
     "data": {
      "text/html": [
       "<div>\n",
       "<style scoped>\n",
       "    .dataframe tbody tr th:only-of-type {\n",
       "        vertical-align: middle;\n",
       "    }\n",
       "\n",
       "    .dataframe tbody tr th {\n",
       "        vertical-align: top;\n",
       "    }\n",
       "\n",
       "    .dataframe thead th {\n",
       "        text-align: right;\n",
       "    }\n",
       "</style>\n",
       "<table border=\"1\" class=\"dataframe\">\n",
       "  <thead>\n",
       "    <tr style=\"text-align: right;\">\n",
       "      <th></th>\n",
       "      <th>stage</th>\n",
       "      <th>users</th>\n",
       "      <th>conversions</th>\n",
       "      <th>conversion_rate</th>\n",
       "    </tr>\n",
       "  </thead>\n",
       "  <tbody>\n",
       "    <tr>\n",
       "      <th>0</th>\n",
       "      <td>homepage</td>\n",
       "      <td>10000</td>\n",
       "      <td>10000</td>\n",
       "      <td>100.000000</td>\n",
       "    </tr>\n",
       "    <tr>\n",
       "      <th>1</th>\n",
       "      <td>product_page</td>\n",
       "      <td>5000</td>\n",
       "      <td>2515</td>\n",
       "      <td>50.300000</td>\n",
       "    </tr>\n",
       "    <tr>\n",
       "      <th>2</th>\n",
       "      <td>cart</td>\n",
       "      <td>1500</td>\n",
       "      <td>449</td>\n",
       "      <td>29.933333</td>\n",
       "    </tr>\n",
       "    <tr>\n",
       "      <th>3</th>\n",
       "      <td>checkout</td>\n",
       "      <td>450</td>\n",
       "      <td>36</td>\n",
       "      <td>8.000000</td>\n",
       "    </tr>\n",
       "    <tr>\n",
       "      <th>4</th>\n",
       "      <td>purchase</td>\n",
       "      <td>225</td>\n",
       "      <td>14</td>\n",
       "      <td>6.222222</td>\n",
       "    </tr>\n",
       "  </tbody>\n",
       "</table>\n",
       "</div>"
      ],
      "text/plain": [
       "          stage  users  conversions  conversion_rate\n",
       "0      homepage  10000        10000       100.000000\n",
       "1  product_page   5000         2515        50.300000\n",
       "2          cart   1500          449        29.933333\n",
       "3      checkout    450           36         8.000000\n",
       "4      purchase    225           14         6.222222"
      ]
     },
     "execution_count": 6,
     "metadata": {},
     "output_type": "execute_result"
    }
   ],
   "source": [
    "# Calculate the number of users at each stage\n",
    "users_per_stage = user_data.groupby('stage')['user_id'].nunique().reset_index()\n",
    "users_per_stage.columns = ['stage', 'users']\n",
    "\n",
    "# Calculate the number of conversions at each stage\n",
    "conversions_per_stage = user_data[user_data['conversion']].groupby('stage')['user_id'].nunique().reset_index()\n",
    "conversions_per_stage.columns = ['stage', 'conversions']\n",
    "\n",
    "# Merge the two DataFrames\n",
    "funnel_data = pd.merge(users_per_stage, conversions_per_stage, on='stage', how='left')\n",
    "funnel_data['conversions'] = funnel_data['conversions'].fillna(0)\n",
    "\n",
    "# Calculate the conversion rate for each stage\n",
    "funnel_data['conversion_rate'] = (funnel_data['conversions'] / funnel_data['users']) * 100\n",
    "\n",
    "stage_order = ['homepage', 'product_page', 'cart', 'checkout', 'purchase']\n",
    "\n",
    "# Set the 'stage' column to a categorical type with the defined order\n",
    "funnel_data['stage'] = pd.Categorical(funnel_data['stage'], categories=stage_order, ordered=True)\n",
    "\n",
    "# Sort the DataFrame by the 'stage' column\n",
    "funnel_data = funnel_data.sort_values('stage').reset_index(drop=True)\n",
    "\n",
    "funnel_data"
   ]
  },
  {
   "cell_type": "code",
   "execution_count": 11,
   "metadata": {},
   "outputs": [
    {
     "data": {
      "image/png": "[encoded data removed]"
     },
     "metadata": {},
     "output_type": "display_data"
    }
   ],
   "source": [
    "from io import BytesIO\n",
    "import kaleido\n",
    "import matplotlib.image as mpimg\n",
    "import plotly.graph_objects as go\n",
    "import plotly.io as pio\n",
    "pio.templates.default = \"plotly_white\"\n",
    "\n",
    "fig = go.Figure(go.Funnel(\n",
    "    y = funnel_data['stage'],\n",
    "    x = funnel_data['users'],\n",
    "    textposition = 'inside',\n",
    "    textinfo = 'value',\n",
    "    name = 'users'\n",
    "))\n",
    "\n",
    "fig.add_trace(go.Funnel(\n",
    "    y=funnel_data['stage'],\n",
    "    x=funnel_data['conversions'],\n",
    "    textposition='inside',\n",
    "    textinfo='value',\n",
    "    name='Conversions'\n",
    "))\n",
    "\n",
    "fig.update_layout(\n",
    "    title='Funnel Analysis',\n",
    "    funnelmode='stack'\n",
    ")\n",
    "\n",
    "\n",
    "fig.show(\"png\")"
   ]
  },
  {
   "cell_type": "markdown",
   "metadata": {},
   "source": [
    "![title](test.png)"
   ]
  },
  {
   "cell_type": "markdown",
   "metadata": {},
   "source": [
    "#### Summary\n",
    "\n",
    "The funnel analysis reveals several critical insights into the customer journey. The homepage effectively captures user interest, with all 10,000 visitors proceeding to the product page, resulting in a 100% conversion rate at this stage. However, a significant drop-off occurs at the product page, with only 2,515 out of 5,000 users converting (50.3%). This suggests a need for improved product descriptions and visuals. The cart stage also shows a notable decrease, with 1,500 users and a conversion rate of 29.93%, indicating potential issues with the cart process and unexpected costs. The checkout stage has a low conversion rate of 8% with only 450 users, likely due to complicated payment processes and trust concerns. Finally, the purchase stage sees the fewest conversions, with just 14 out of 225 users (6.22%), highlighting the need for incentives and transparent pricing.\n",
    "\n",
    "Addressing these issues by optimizing product pages, simplifying cart and checkout processes, building user trust, and conducting A/B testing can improve overall funnel efficiency. These improvements are expected to lead to higher conversion rates and better customer satisfaction, ultimately driving business growth."
   ]
  }
 ],
 "metadata": {
  "kernelspec": {
   "display_name": "Python 3",
   "language": "python",
   "name": "python3"
  },
  "language_info": {
   "codemirror_mode": {
    "name": "ipython",
    "version": 3
   },
   "file_extension": ".py",
   "mimetype": "text/x-python",
   "name": "python",
   "nbconvert_exporter": "python",
   "pygments_lexer": "ipython3",
   "version": "3.12.4"
  }
 },
 "nbformat": 4,
 "nbformat_minor": 2
}
